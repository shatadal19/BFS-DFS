{
  "nbformat": 4,
  "nbformat_minor": 0,
  "metadata": {
    "colab": {
      "provenance": []
    },
    "kernelspec": {
      "name": "python3",
      "display_name": "Python 3"
    },
    "language_info": {
      "name": "python"
    }
  },
  "cells": [
    {
      "cell_type": "markdown",
      "source": [
        "Breadth-First Search (BFS)"
      ],
      "metadata": {
        "id": "fv3yr9kX6b2j"
      }
    },
    {
      "cell_type": "code",
      "execution_count": null,
      "metadata": {
        "id": "-5hE22XQ4t-l"
      },
      "outputs": [],
      "source": [
        "from collections import deque"
      ]
    },
    {
      "cell_type": "code",
      "source": [
        "def bfs(graph, start):\n",
        "  visited = set()\n",
        "  queue = deque([start])\n",
        "  visited.add(start)\n",
        "\n",
        "  while queue:\n",
        "    vertex = queue.popleft()\n",
        "    print(vertex, end=\" \")\n",
        "\n",
        "    for neighbor in graph[vertex]:\n",
        "      if neighbor not in visited:\n",
        "        visited.add(neighbor)\n",
        "        queue.append(neighbor)"
      ],
      "metadata": {
        "id": "7JUCltL448C8"
      },
      "execution_count": null,
      "outputs": []
    },
    {
      "cell_type": "code",
      "source": [
        "graph = {\n",
        "    'I': ['J', 'K'],\n",
        "    'J': ['I', 'L', 'M'],\n",
        "    'K': ['I', 'N', 'O'],\n",
        "    'L': ['J'],\n",
        "    'M': ['J', 'N'],\n",
        "    'N': ['K', 'M'],\n",
        "    'O': ['K']\n",
        "}"
      ],
      "metadata": {
        "id": "Sw7O4Zc-5JDw"
      },
      "execution_count": null,
      "outputs": []
    },
    {
      "cell_type": "code",
      "source": [
        "bfs(graph, 'I')"
      ],
      "metadata": {
        "colab": {
          "base_uri": "https://localhost:8080/"
        },
        "id": "7tOuG_Y254e6",
        "outputId": "260943e3-02fd-4f6e-b864-677fca68e186"
      },
      "execution_count": null,
      "outputs": [
        {
          "output_type": "stream",
          "name": "stdout",
          "text": [
            "I J K L M N O "
          ]
        }
      ]
    },
    {
      "cell_type": "markdown",
      "source": [
        "Depth-First Search (DFS)"
      ],
      "metadata": {
        "id": "XnLP138r6kpB"
      }
    },
    {
      "cell_type": "code",
      "source": [
        "def dfs(graph, start, visited=None):\n",
        "  if visited is None:\n",
        "    visited = set()\n",
        "  visited.add(start)\n",
        "  print(start,end=\" \")\n",
        "\n",
        "  for neighbor in graph[start]:\n",
        "    if neighbor not in visited:\n",
        "      dfs(graph, neighbor, visited)"
      ],
      "metadata": {
        "id": "jt8BNDMg6xH_"
      },
      "execution_count": null,
      "outputs": []
    },
    {
      "cell_type": "code",
      "source": [
        "graph = {\n",
        "    'Khulna': ['Jelkhana Mor', 'Sener Bazar'],\n",
        "    'Jelkhana Mor': ['Khulna', 'Rupsha', 'Boira'],\n",
        "    'Sener Bazar': ['Khulna', 'Therokhada'],\n",
        "    'Rupsha': ['Jelkhana Mor'],\n",
        "    'Boira': ['Jelkhana Mor', 'Therokhada'],\n",
        "    'Therokhada': ['Sener Bazar', 'Boira']\n",
        "}"
      ],
      "metadata": {
        "id": "3N0J1WWM65Sr"
      },
      "execution_count": 28,
      "outputs": []
    },
    {
      "cell_type": "code",
      "source": [
        "dfs(graph, 'Khulna')"
      ],
      "metadata": {
        "colab": {
          "base_uri": "https://localhost:8080/"
        },
        "id": "DZWSXKkA8B4t",
        "outputId": "071e92b3-bb41-43bc-80c3-513117424b77"
      },
      "execution_count": 29,
      "outputs": [
        {
          "output_type": "stream",
          "name": "stdout",
          "text": [
            "Khulna Jelkhana Mor Rupsha Boira Therokhada Sener Bazar "
          ]
        }
      ]
    }
  ]
}